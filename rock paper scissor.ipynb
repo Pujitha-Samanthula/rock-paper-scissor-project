{
 "cells": [
  {
   "cell_type": "code",
   "execution_count": 7,
   "id": "5214d677-4870-4f4f-bfcc-d76a734d00e8",
   "metadata": {},
   "outputs": [
    {
     "name": "stdin",
     "output_type": "stream",
     "text": [
      "enter how many games you want to play 2\n",
      "enter the number 5\n"
     ]
    },
    {
     "name": "stdout",
     "output_type": "stream",
     "text": [
      "computer_number=3\n",
      "user_number=5\n",
      "enter a valid number\n"
     ]
    },
    {
     "name": "stdin",
     "output_type": "stream",
     "text": [
      "enter the number 3\n"
     ]
    },
    {
     "name": "stdout",
     "output_type": "stream",
     "text": [
      "computer_number=1\n",
      "user_number=3\n"
     ]
    },
    {
     "name": "stdin",
     "output_type": "stream",
     "text": [
      "enter the number 1\n"
     ]
    },
    {
     "name": "stdout",
     "output_type": "stream",
     "text": [
      "computer_number=3\n",
      "user_number=1\n",
      "program and user got the same score\n"
     ]
    }
   ],
   "source": [
    "#rock paper scissor\n",
    "import random\n",
    "no_of_games=int(input(\"enter how many games you want to play\"))\n",
    "game=[\"Rock\",\"paper\",\"Scissor\"]\n",
    "user=0\n",
    "program=0\n",
    "while(no_of_games>0):\n",
    "    random_number=random.randint(1,3)\n",
    "    user_number=int(input(\"enter the number\"))\n",
    "    print(f\"computer_number={random_number}\")\n",
    "    print(f\"user_number={user_number}\")\n",
    "    if user_number>3 or user_number<1:\n",
    "        print(\"enter a valid number\")\n",
    "    else:\n",
    "        no_of_games-=1\n",
    "        if random_number==user_number:\n",
    "            print(\"it's a draw\")\n",
    "        elif random_number==3 and user_number==1:\n",
    "            user+=1\n",
    "        elif random_number==1 and user_number==3:\n",
    "            program+=1\n",
    "        elif random_number<user_number:\n",
    "            user+=1\n",
    "        elif random_number>user_number:\n",
    "            program+=1\n",
    "if user>program:\n",
    "    print(\"user will win the game\")\n",
    "elif program>user:\n",
    "    print(\"program will win the game\")\n",
    "elif user==program:\n",
    "    print(\"program and user got the same score\")"
   ]
  },
  {
   "cell_type": "code",
   "execution_count": null,
   "id": "af7a74d9-ef4b-4187-878a-0ab6c692b75f",
   "metadata": {},
   "outputs": [],
   "source": []
  }
 ],
 "metadata": {
  "kernelspec": {
   "display_name": "Python 3 (ipykernel)",
   "language": "python",
   "name": "python3"
  },
  "language_info": {
   "codemirror_mode": {
    "name": "ipython",
    "version": 3
   },
   "file_extension": ".py",
   "mimetype": "text/x-python",
   "name": "python",
   "nbconvert_exporter": "python",
   "pygments_lexer": "ipython3",
   "version": "3.12.4"
  }
 },
 "nbformat": 4,
 "nbformat_minor": 5
}
